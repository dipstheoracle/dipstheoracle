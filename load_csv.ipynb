{
  "cells": [
    {
      "cell_type": "markdown",
      "metadata": {
        "id": "view-in-github",
        "colab_type": "text"
      },
      "source": [
        "<a href=\"https://colab.research.google.com/github/dipstheoracle/dipstheoracle/blob/main/load_csv.ipynb\" target=\"_parent\"><img src=\"https://colab.research.google.com/assets/colab-badge.svg\" alt=\"Open In Colab\"/></a>"
      ]
    },
    {
      "cell_type": "code",
      "execution_count": null,
      "id": "bc2aed34-0812-43b9-9f2d-2dd0f87dc48b",
      "metadata": {
        "id": "bc2aed34-0812-43b9-9f2d-2dd0f87dc48b"
      },
      "outputs": [],
      "source": [
        "import pandas as pd\n",
        "import matplotlib.pyplot as plt\n",
        "import numpy as np"
      ]
    },
    {
      "cell_type": "code",
      "execution_count": null,
      "id": "2a71ecfe-4cda-4648-90a1-e4d937bc841e",
      "metadata": {
        "id": "2a71ecfe-4cda-4648-90a1-e4d937bc841e"
      },
      "outputs": [],
      "source": [
        "# filename = 'ETH_USD_USD__15m_2025-02-20_to_2025-02-25_with_pivot_point.csv'\n",
        "filename = 'ETH_USDT_15m_2025-01-01_to_2025-03-09_with_pivot_point.csv'"
      ]
    },
    {
      "cell_type": "code",
      "execution_count": null,
      "id": "4b5c9e51-4c3e-41cd-818c-a844190ba2f0",
      "metadata": {
        "id": "4b5c9e51-4c3e-41cd-818c-a844190ba2f0"
      },
      "outputs": [],
      "source": [
        "df = pd.read_csv(filename)"
      ]
    },
    {
      "cell_type": "code",
      "execution_count": null,
      "id": "7a43e051-17bb-48bb-a1d0-6af0b3be696e",
      "metadata": {
        "id": "7a43e051-17bb-48bb-a1d0-6af0b3be696e"
      },
      "outputs": [],
      "source": [
        "df['consolidated_pivot_zones'] = df['pivot_zones']\n",
        "df['first_last_pivot_zones'] = df['pivot_zones']"
      ]
    },
    {
      "cell_type": "code",
      "execution_count": null,
      "id": "377cf590-a55b-451f-96b5-36ce9b1c144e",
      "metadata": {
        "id": "377cf590-a55b-451f-96b5-36ce9b1c144e",
        "outputId": "ae66bae9-4160-4747-d5c2-4984be48da10"
      },
      "outputs": [
        {
          "data": {
            "text/plain": [
              "Index(['timestamp', 'open', 'high', 'low', 'close', 'volume', 'date',\n",
              "       'daily_high', 'daily_low', 'daily_close', 'pp', 'r1', 'r2', 'r3', 's1',\n",
              "       's2', 's3', 'touches_pp', 'crosses_up_pp', 'crosses_down_pp',\n",
              "       'pivot_zones', 'touches_r1', 'crosses_up_r1', 'crosses_down_r1',\n",
              "       'touches_r2', 'crosses_up_r2', 'crosses_down_r2', 'touches_r3',\n",
              "       'crosses_up_r3', 'crosses_down_r3', 'touches_s1', 'crosses_up_s1',\n",
              "       'crosses_down_s1', 'touches_s2', 'crosses_up_s2', 'crosses_down_s2',\n",
              "       'touches_s3', 'crosses_up_s3', 'crosses_down_s3', 'diff_pp_r1',\n",
              "       'diff_pp_r2', 'diff_pp_r3', 'diff_pp_s1', 'diff_pp_s2', 'diff_pp_s3',\n",
              "       'diff_pp_s1 - diff_pp_r1', 'consolidated_pivot_zones',\n",
              "       'first_last_pivot_zones'],\n",
              "      dtype='object')"
            ]
          },
          "execution_count": 350,
          "metadata": {},
          "output_type": "execute_result"
        }
      ],
      "source": [
        "df.columns"
      ]
    },
    {
      "cell_type": "code",
      "execution_count": null,
      "id": "7d0ea1d6-3477-47a5-aff7-3c7ef64a9208",
      "metadata": {
        "id": "7d0ea1d6-3477-47a5-aff7-3c7ef64a9208"
      },
      "outputs": [],
      "source": [
        "def categorize_pivot_zones(zones_list):\n",
        "    # Define the order of levels\n",
        "    order = [\"Below S3\", \"S3\", \"S2-S3\", \"S2\", \"S1-S2\", \"S1\", \"PP-S1\", \"PP\", \"PP-R1\", \"R1\", \"R1-R2\", \"R2\", \"R2-R3\", \"R3\", \"Above R3\"]\n",
        "\n",
        "    # Extract all individual levels from the given list\n",
        "    levels = set()\n",
        "    for multi_zone in zones_list:\n",
        "        # print(zone)\n",
        "        for zone in multi_zone.split(\", \"):\n",
        "            # print(zone)\n",
        "            try:\n",
        "                left, right = zone.split(\"-\")\n",
        "                levels.add(left)\n",
        "                levels.add(right)\n",
        "            except:\n",
        "                levels.add(zone)\n",
        "                levels.add(zone)\n",
        "\n",
        "    # Find the lowest and highest zones based on the order\n",
        "    sorted_levels = sorted(levels, key=lambda x: order.index(x))\n",
        "    return f\"{sorted_levels[-1]} - {sorted_levels[0]}\"\n",
        "\n",
        "def split_and_remove_consecutive_duplicates(arr):\n",
        "    \"\"\"Splits elements containing multiple zones and removes consecutive duplicates.\"\"\"\n",
        "    expanded_list = []\n",
        "    for item in arr:\n",
        "        zones = item.split(', ')  # Split multiple zones\n",
        "        expanded_list.extend(zones)  # Add them separately\n",
        "\n",
        "    # Remove consecutive duplicates\n",
        "    filtered_list = [expanded_list[i] for i in range(len(expanded_list)) if i == 0 or expanded_list[i] != expanded_list[i - 1]]\n",
        "\n",
        "    return np.array(filtered_list)\n",
        "\n",
        "# def reverse_zones(arr):\n",
        "#     \"\"\"Splits each zone at '-', reverses left and right, and removes consecutive duplicates.\"\"\"\n",
        "#     expanded_list = []\n",
        "#     # print(type(arr))\n",
        "#     if isinstance(arr, str):\n",
        "#         arr = [arr]\n",
        "#     for item in arr:\n",
        "#         zones = item.split(', ')  # Split multiple zones if present\n",
        "#         # print(\"zones\", zones)\n",
        "#         reversed_zones = ['-'.join(zone.split('-')[::-1]) for zone in zones]  # Reverse left-right\n",
        "#         # print(\"reversed_zones\", reversed_zones)\n",
        "#         expanded_list.extend(reversed_zones)  # Add to list\n",
        "\n",
        "#     # Remove consecutive duplicates\n",
        "#     # filtered_list = [expanded_list[i] for i in range(len(expanded_list)) if i == 0 or expanded_list[i] != expanded_list[i - 1]]\n",
        "\n",
        "#     return np.array(expanded_list)\n",
        "\n",
        "def get_level_difference(zone):\n",
        "    \"\"\"Calculate the difference in level numbers.\"\"\"\n",
        "    parts = zone.split(\" - \")  # Split range\n",
        "    level_numbers = {\"Below S3\":-4, \"S3\":-3,  \"S2\":-2, \"S1\":-1, \"PP\":0, \"R1\":1, \"R2\":2, \"R3\":3, \"Above R3\":4}\n",
        "    levels = [level_numbers[p] for p in parts]  # Convert to numeric levels\n",
        "    return abs(levels[0] - levels[1])  # Compute absolute difference\n",
        "\n",
        "def get_zone_difference(zones):\n",
        "    level_numbers = {\"Below S3\":-4, \"S3\":-3,  \"S2\":-2, \"S1\":-1, \"PP\":0, \"R1\":1, \"R2\":2, \"R3\":3, \"Above R3\":4}\n",
        "    left_part = zones[0].split(\"-\")[0]\n",
        "    left_part_level_number = level_numbers[left_part]\n",
        "    right_part = zones[1].split(\"-\")[0]\n",
        "    right_part_level_number = level_numbers[right_part]\n",
        "    action = None\n",
        "    if left_part > right_part:\n",
        "        action = 'Prices went Down'\n",
        "    elif left_part < right_part:\n",
        "        action = 'Prices went Up'\n",
        "    else:\n",
        "        action = 'Prices were Neutral'\n",
        "    return action\n",
        "\n",
        "# Function to get first and last pivot zones\n",
        "def first_last_pivot_zones(arr):\n",
        "    expanded_list = []\n",
        "    for item in arr:\n",
        "        zones = item.split(', ')  # Split multiple zones\n",
        "        expanded_list.extend(zones)  # Add them separately\n",
        "    unique_zones = expanded_list\n",
        "    if len(unique_zones) >= 2:\n",
        "        return [unique_zones[0], unique_zones[-1]]\n",
        "    elif len(unique_zones) == 1:\n",
        "        return [unique_zones[0]]  # Only one unique pivot zone\n",
        "    else:\n",
        "        return []  # Empty case\n"
      ]
    },
    {
      "cell_type": "code",
      "execution_count": null,
      "id": "2772e894-4c84-4542-9a03-170da3a2e239",
      "metadata": {
        "scrolled": true,
        "id": "2772e894-4c84-4542-9a03-170da3a2e239"
      },
      "outputs": [],
      "source": [
        "# Ensure 'date' is in datetime format\n",
        "df['date'] = pd.to_datetime(df['date'])\n",
        "\n",
        "# Define aggregation rules for each column\n",
        "aggregation_rules = {\n",
        "    'diff_pp_r1': 'first',\n",
        "    'diff_pp_r2': 'first',\n",
        "    'diff_pp_r3': 'first',\n",
        "    'diff_pp_s1': 'first',\n",
        "    'diff_pp_s2': 'first',\n",
        "    'diff_pp_s3': 'first',\n",
        "    'diff_pp_s1 - diff_pp_r1': 'first',\n",
        "}\n",
        "\n",
        "# Apply OR operation for boolean columns\n",
        "boolean_columns = [\n",
        "    'touches_pp', 'crosses_up_pp', 'crosses_down_pp',\n",
        "    'touches_r1', 'crosses_up_r1', 'crosses_down_r1',\n",
        "    'touches_r2', 'crosses_up_r2', 'crosses_down_r2',\n",
        "    'touches_r3', 'crosses_up_r3', 'crosses_down_r3',\n",
        "    'touches_s1', 'crosses_up_s1', 'crosses_down_s1',\n",
        "    'touches_s2', 'crosses_up_s2', 'crosses_down_s2',\n",
        "    'touches_s3', 'crosses_up_s3', 'crosses_down_s3'\n",
        "]\n",
        "\n",
        "# Set OR aggregation for boolean columns\n",
        "for col in boolean_columns:\n",
        "    aggregation_rules[col] = 'any'  # OR operation\n",
        "\n",
        "# **Handle `pivot_zones` column**\n",
        "aggregation_rules['pivot_zones'] = lambda x: reverse_zones(split_and_remove_consecutive_duplicates(list(x)))  # Append unique values\n",
        "aggregation_rules['consolidated_pivot_zones'] = lambda x: categorize_pivot_zones(list(x))  # Apply categorization\n",
        "aggregation_rules['first_last_pivot_zones'] = lambda x: first_last_pivot_zones(list(x))  # Apply categorization\n",
        "\n",
        "# Group by date and apply aggregation\n",
        "grouped_df = df.groupby('date').agg(aggregation_rules)\n",
        "\n",
        "# Display result\n",
        "# print(grouped_df.head())"
      ]
    },
    {
      "cell_type": "code",
      "execution_count": null,
      "id": "5b26297d-3942-4291-ae31-53bfdd26db04",
      "metadata": {
        "id": "5b26297d-3942-4291-ae31-53bfdd26db04"
      },
      "outputs": [],
      "source": [
        "# Apply function to calculate level difference\n",
        "grouped_df[\"level_difference\"] = grouped_df[\"consolidated_pivot_zones\"].apply(get_level_difference)"
      ]
    },
    {
      "cell_type": "code",
      "execution_count": null,
      "id": "c6d18044-3a50-49d5-b237-603ee8640640",
      "metadata": {
        "id": "c6d18044-3a50-49d5-b237-603ee8640640"
      },
      "outputs": [],
      "source": [
        "# grouped_df['first_last_pivot_zones'] = grouped_df['first_last_pivot_zones'].astype(str)"
      ]
    },
    {
      "cell_type": "code",
      "execution_count": null,
      "id": "4e8bdfa3-1f1a-4aef-8adb-79cdeaf6aa93",
      "metadata": {
        "id": "4e8bdfa3-1f1a-4aef-8adb-79cdeaf6aa93"
      },
      "outputs": [],
      "source": [
        "# Apply function to calculate level difference\n",
        "grouped_df[\"Summary\"] = grouped_df[\"first_last_pivot_zones\"].apply(get_zone_difference)"
      ]
    },
    {
      "cell_type": "code",
      "execution_count": null,
      "id": "3ec5958b-415e-40c3-9b55-a578ff6d9bfd",
      "metadata": {
        "id": "3ec5958b-415e-40c3-9b55-a578ff6d9bfd",
        "outputId": "3f048cce-19ae-40e1-da47-083042393b3f"
      },
      "outputs": [
        {
          "data": {
            "text/html": [
              "<div>\n",
              "<style scoped>\n",
              "    .dataframe tbody tr th:only-of-type {\n",
              "        vertical-align: middle;\n",
              "    }\n",
              "\n",
              "    .dataframe tbody tr th {\n",
              "        vertical-align: top;\n",
              "    }\n",
              "\n",
              "    .dataframe thead th {\n",
              "        text-align: right;\n",
              "    }\n",
              "</style>\n",
              "<table border=\"1\" class=\"dataframe\">\n",
              "  <thead>\n",
              "    <tr style=\"text-align: right;\">\n",
              "      <th></th>\n",
              "      <th>diff_pp_r1</th>\n",
              "      <th>diff_pp_r2</th>\n",
              "      <th>diff_pp_r3</th>\n",
              "      <th>diff_pp_s1</th>\n",
              "      <th>diff_pp_s2</th>\n",
              "      <th>diff_pp_s3</th>\n",
              "      <th>diff_pp_s1 - diff_pp_r1</th>\n",
              "      <th>touches_pp</th>\n",
              "      <th>crosses_up_pp</th>\n",
              "      <th>crosses_down_pp</th>\n",
              "      <th>...</th>\n",
              "      <th>crosses_up_s2</th>\n",
              "      <th>crosses_down_s2</th>\n",
              "      <th>touches_s3</th>\n",
              "      <th>crosses_up_s3</th>\n",
              "      <th>crosses_down_s3</th>\n",
              "      <th>pivot_zones</th>\n",
              "      <th>consolidated_pivot_zones</th>\n",
              "      <th>first_last_pivot_zones</th>\n",
              "      <th>level_difference</th>\n",
              "      <th>Summary</th>\n",
              "    </tr>\n",
              "    <tr>\n",
              "      <th>date</th>\n",
              "      <th></th>\n",
              "      <th></th>\n",
              "      <th></th>\n",
              "      <th></th>\n",
              "      <th></th>\n",
              "      <th></th>\n",
              "      <th></th>\n",
              "      <th></th>\n",
              "      <th></th>\n",
              "      <th></th>\n",
              "      <th></th>\n",
              "      <th></th>\n",
              "      <th></th>\n",
              "      <th></th>\n",
              "      <th></th>\n",
              "      <th></th>\n",
              "      <th></th>\n",
              "      <th></th>\n",
              "      <th></th>\n",
              "      <th></th>\n",
              "      <th></th>\n",
              "    </tr>\n",
              "  </thead>\n",
              "  <tbody>\n",
              "    <tr>\n",
              "      <th>2025-01-02</th>\n",
              "      <td>23.3020</td>\n",
              "      <td>37.6980</td>\n",
              "      <td>61.00</td>\n",
              "      <td>23.3020</td>\n",
              "      <td>37.6980</td>\n",
              "      <td>61.00</td>\n",
              "      <td>0.0</td>\n",
              "      <td>False</td>\n",
              "      <td>False</td>\n",
              "      <td>False</td>\n",
              "      <td>...</td>\n",
              "      <td>False</td>\n",
              "      <td>False</td>\n",
              "      <td>False</td>\n",
              "      <td>False</td>\n",
              "      <td>False</td>\n",
              "      <td>[PP-R1, R2-R3, R1-R2, PP-R1, R2-R3, R1-R2, R2-...</td>\n",
              "      <td>Above R3 - PP</td>\n",
              "      <td>[R1-PP, Above R3]</td>\n",
              "      <td>4</td>\n",
              "      <td>Prices went Down</td>\n",
              "    </tr>\n",
              "    <tr>\n",
              "      <th>2025-01-03</th>\n",
              "      <td>59.8403</td>\n",
              "      <td>96.8097</td>\n",
              "      <td>156.65</td>\n",
              "      <td>59.8403</td>\n",
              "      <td>96.8097</td>\n",
              "      <td>156.65</td>\n",
              "      <td>0.0</td>\n",
              "      <td>True</td>\n",
              "      <td>True</td>\n",
              "      <td>True</td>\n",
              "      <td>...</td>\n",
              "      <td>False</td>\n",
              "      <td>False</td>\n",
              "      <td>False</td>\n",
              "      <td>False</td>\n",
              "      <td>False</td>\n",
              "      <td>[PP-R1, S1-PP, PP-R1, S1-PP, PP-R1, S1-PP, PP-...</td>\n",
              "      <td>Above R3 - S1</td>\n",
              "      <td>[R1-PP, Above R3]</td>\n",
              "      <td>5</td>\n",
              "      <td>Prices went Down</td>\n",
              "    </tr>\n",
              "    <tr>\n",
              "      <th>2025-01-04</th>\n",
              "      <td>79.3223</td>\n",
              "      <td>128.3277</td>\n",
              "      <td>207.65</td>\n",
              "      <td>79.3223</td>\n",
              "      <td>128.3277</td>\n",
              "      <td>207.65</td>\n",
              "      <td>0.0</td>\n",
              "      <td>False</td>\n",
              "      <td>False</td>\n",
              "      <td>False</td>\n",
              "      <td>...</td>\n",
              "      <td>False</td>\n",
              "      <td>False</td>\n",
              "      <td>False</td>\n",
              "      <td>False</td>\n",
              "      <td>False</td>\n",
              "      <td>[PP-R1, R1-R2, PP-R1, R1-R2, PP-R1, R1-R2, PP-...</td>\n",
              "      <td>R2 - PP</td>\n",
              "      <td>[R1-PP, R2-R1]</td>\n",
              "      <td>2</td>\n",
              "      <td>Prices went Up</td>\n",
              "    </tr>\n",
              "    <tr>\n",
              "      <th>2025-01-05</th>\n",
              "      <td>37.8371</td>\n",
              "      <td>61.2129</td>\n",
              "      <td>99.05</td>\n",
              "      <td>37.8371</td>\n",
              "      <td>61.2129</td>\n",
              "      <td>99.05</td>\n",
              "      <td>0.0</td>\n",
              "      <td>True</td>\n",
              "      <td>True</td>\n",
              "      <td>True</td>\n",
              "      <td>...</td>\n",
              "      <td>False</td>\n",
              "      <td>False</td>\n",
              "      <td>False</td>\n",
              "      <td>False</td>\n",
              "      <td>False</td>\n",
              "      <td>[PP-R1, R1-R2, PP-R1, S1-PP, PP-R1, S1-PP, PP-...</td>\n",
              "      <td>R2 - S2</td>\n",
              "      <td>[R1-PP, R1-PP]</td>\n",
              "      <td>4</td>\n",
              "      <td>Prices were Neutral</td>\n",
              "    </tr>\n",
              "    <tr>\n",
              "      <th>2025-01-06</th>\n",
              "      <td>31.4768</td>\n",
              "      <td>50.9232</td>\n",
              "      <td>82.40</td>\n",
              "      <td>31.4768</td>\n",
              "      <td>50.9232</td>\n",
              "      <td>82.40</td>\n",
              "      <td>0.0</td>\n",
              "      <td>True</td>\n",
              "      <td>True</td>\n",
              "      <td>True</td>\n",
              "      <td>...</td>\n",
              "      <td>False</td>\n",
              "      <td>False</td>\n",
              "      <td>False</td>\n",
              "      <td>False</td>\n",
              "      <td>False</td>\n",
              "      <td>[PP-R1, S1-PP, PP-R1, S1-PP, PP-R1, S1-PP, PP-...</td>\n",
              "      <td>Above R3 - S1</td>\n",
              "      <td>[R1-PP, R2-R1]</td>\n",
              "      <td>5</td>\n",
              "      <td>Prices went Up</td>\n",
              "    </tr>\n",
              "  </tbody>\n",
              "</table>\n",
              "<p>5 rows × 33 columns</p>\n",
              "</div>"
            ],
            "text/plain": [
              "            diff_pp_r1  diff_pp_r2  diff_pp_r3  diff_pp_s1  diff_pp_s2  \\\n",
              "date                                                                     \n",
              "2025-01-02     23.3020     37.6980       61.00     23.3020     37.6980   \n",
              "2025-01-03     59.8403     96.8097      156.65     59.8403     96.8097   \n",
              "2025-01-04     79.3223    128.3277      207.65     79.3223    128.3277   \n",
              "2025-01-05     37.8371     61.2129       99.05     37.8371     61.2129   \n",
              "2025-01-06     31.4768     50.9232       82.40     31.4768     50.9232   \n",
              "\n",
              "            diff_pp_s3  diff_pp_s1 - diff_pp_r1  touches_pp  crosses_up_pp  \\\n",
              "date                                                                         \n",
              "2025-01-02       61.00                      0.0       False          False   \n",
              "2025-01-03      156.65                      0.0        True           True   \n",
              "2025-01-04      207.65                      0.0       False          False   \n",
              "2025-01-05       99.05                      0.0        True           True   \n",
              "2025-01-06       82.40                      0.0        True           True   \n",
              "\n",
              "            crosses_down_pp  ...  crosses_up_s2  crosses_down_s2  touches_s3  \\\n",
              "date                         ...                                               \n",
              "2025-01-02            False  ...          False            False       False   \n",
              "2025-01-03             True  ...          False            False       False   \n",
              "2025-01-04            False  ...          False            False       False   \n",
              "2025-01-05             True  ...          False            False       False   \n",
              "2025-01-06             True  ...          False            False       False   \n",
              "\n",
              "            crosses_up_s3  crosses_down_s3  \\\n",
              "date                                         \n",
              "2025-01-02          False            False   \n",
              "2025-01-03          False            False   \n",
              "2025-01-04          False            False   \n",
              "2025-01-05          False            False   \n",
              "2025-01-06          False            False   \n",
              "\n",
              "                                                  pivot_zones  \\\n",
              "date                                                            \n",
              "2025-01-02  [PP-R1, R2-R3, R1-R2, PP-R1, R2-R3, R1-R2, R2-...   \n",
              "2025-01-03  [PP-R1, S1-PP, PP-R1, S1-PP, PP-R1, S1-PP, PP-...   \n",
              "2025-01-04  [PP-R1, R1-R2, PP-R1, R1-R2, PP-R1, R1-R2, PP-...   \n",
              "2025-01-05  [PP-R1, R1-R2, PP-R1, S1-PP, PP-R1, S1-PP, PP-...   \n",
              "2025-01-06  [PP-R1, S1-PP, PP-R1, S1-PP, PP-R1, S1-PP, PP-...   \n",
              "\n",
              "            consolidated_pivot_zones  first_last_pivot_zones  \\\n",
              "date                                                           \n",
              "2025-01-02             Above R3 - PP       [R1-PP, Above R3]   \n",
              "2025-01-03             Above R3 - S1       [R1-PP, Above R3]   \n",
              "2025-01-04                   R2 - PP          [R1-PP, R2-R1]   \n",
              "2025-01-05                   R2 - S2          [R1-PP, R1-PP]   \n",
              "2025-01-06             Above R3 - S1          [R1-PP, R2-R1]   \n",
              "\n",
              "            level_difference              Summary  \n",
              "date                                               \n",
              "2025-01-02                 4     Prices went Down  \n",
              "2025-01-03                 5     Prices went Down  \n",
              "2025-01-04                 2       Prices went Up  \n",
              "2025-01-05                 4  Prices were Neutral  \n",
              "2025-01-06                 5       Prices went Up  \n",
              "\n",
              "[5 rows x 33 columns]"
            ]
          },
          "execution_count": 356,
          "metadata": {},
          "output_type": "execute_result"
        }
      ],
      "source": [
        "grouped_df.head()"
      ]
    },
    {
      "cell_type": "code",
      "execution_count": null,
      "id": "aa03a04d-298d-4a4b-893f-454cee1c0ea6",
      "metadata": {
        "id": "aa03a04d-298d-4a4b-893f-454cee1c0ea6"
      },
      "outputs": [],
      "source": [
        "# Define the desired column order\n",
        "column_order = [\n",
        "    'pivot_zones', 'consolidated_pivot_zones', 'first_last_pivot_zones','Summary','level_difference',\n",
        "    'diff_pp_r1', 'diff_pp_r2', 'diff_pp_r3',\n",
        "    'diff_pp_s1', 'diff_pp_s2', 'diff_pp_s3',\n",
        "    'diff_pp_s1 - diff_pp_r1'\n",
        "] + boolean_columns  # Append boolean columns at the end\n",
        "\n",
        "# Reorder grouped dataframe\n",
        "grouped_df = grouped_df[column_order]"
      ]
    },
    {
      "cell_type": "code",
      "execution_count": null,
      "id": "b301e1f5-24c7-4434-b0e0-cb1c6353fcbb",
      "metadata": {
        "id": "b301e1f5-24c7-4434-b0e0-cb1c6353fcbb"
      },
      "outputs": [],
      "source": [
        "# Convert diff_pp_* columns to integers\n",
        "diff_columns = ['diff_pp_r1', 'diff_pp_r2', 'diff_pp_r3', 'diff_pp_s1', 'diff_pp_s2', 'diff_pp_s3']\n",
        "grouped_df[diff_columns] = grouped_df[diff_columns].astype(int)"
      ]
    },
    {
      "cell_type": "code",
      "execution_count": null,
      "id": "703f1ae9-1801-43d7-9a84-414372b14538",
      "metadata": {
        "id": "703f1ae9-1801-43d7-9a84-414372b14538",
        "outputId": "1cb717b9-8559-45d4-ba78-bc6771d8f99e"
      },
      "outputs": [
        {
          "data": {
            "text/html": [
              "<div>\n",
              "<style scoped>\n",
              "    .dataframe tbody tr th:only-of-type {\n",
              "        vertical-align: middle;\n",
              "    }\n",
              "\n",
              "    .dataframe tbody tr th {\n",
              "        vertical-align: top;\n",
              "    }\n",
              "\n",
              "    .dataframe thead th {\n",
              "        text-align: right;\n",
              "    }\n",
              "</style>\n",
              "<table border=\"1\" class=\"dataframe\">\n",
              "  <thead>\n",
              "    <tr style=\"text-align: right;\">\n",
              "      <th></th>\n",
              "      <th>pivot_zones</th>\n",
              "      <th>consolidated_pivot_zones</th>\n",
              "      <th>first_last_pivot_zones</th>\n",
              "      <th>Summary</th>\n",
              "      <th>level_difference</th>\n",
              "      <th>diff_pp_r1</th>\n",
              "      <th>diff_pp_r2</th>\n",
              "      <th>diff_pp_r3</th>\n",
              "      <th>diff_pp_s1</th>\n",
              "      <th>diff_pp_s2</th>\n",
              "      <th>...</th>\n",
              "      <th>crosses_down_r3</th>\n",
              "      <th>touches_s1</th>\n",
              "      <th>crosses_up_s1</th>\n",
              "      <th>crosses_down_s1</th>\n",
              "      <th>touches_s2</th>\n",
              "      <th>crosses_up_s2</th>\n",
              "      <th>crosses_down_s2</th>\n",
              "      <th>touches_s3</th>\n",
              "      <th>crosses_up_s3</th>\n",
              "      <th>crosses_down_s3</th>\n",
              "    </tr>\n",
              "    <tr>\n",
              "      <th>date</th>\n",
              "      <th></th>\n",
              "      <th></th>\n",
              "      <th></th>\n",
              "      <th></th>\n",
              "      <th></th>\n",
              "      <th></th>\n",
              "      <th></th>\n",
              "      <th></th>\n",
              "      <th></th>\n",
              "      <th></th>\n",
              "      <th></th>\n",
              "      <th></th>\n",
              "      <th></th>\n",
              "      <th></th>\n",
              "      <th></th>\n",
              "      <th></th>\n",
              "      <th></th>\n",
              "      <th></th>\n",
              "      <th></th>\n",
              "      <th></th>\n",
              "      <th></th>\n",
              "    </tr>\n",
              "  </thead>\n",
              "  <tbody>\n",
              "    <tr>\n",
              "      <th>2025-01-02</th>\n",
              "      <td>[PP-R1, R2-R3, R1-R2, PP-R1, R2-R3, R1-R2, R2-...</td>\n",
              "      <td>Above R3 - PP</td>\n",
              "      <td>[R1-PP, Above R3]</td>\n",
              "      <td>Prices went Down</td>\n",
              "      <td>4</td>\n",
              "      <td>23</td>\n",
              "      <td>37</td>\n",
              "      <td>61</td>\n",
              "      <td>23</td>\n",
              "      <td>37</td>\n",
              "      <td>...</td>\n",
              "      <td>True</td>\n",
              "      <td>False</td>\n",
              "      <td>False</td>\n",
              "      <td>False</td>\n",
              "      <td>False</td>\n",
              "      <td>False</td>\n",
              "      <td>False</td>\n",
              "      <td>False</td>\n",
              "      <td>False</td>\n",
              "      <td>False</td>\n",
              "    </tr>\n",
              "    <tr>\n",
              "      <th>2025-01-03</th>\n",
              "      <td>[PP-R1, S1-PP, PP-R1, S1-PP, PP-R1, S1-PP, PP-...</td>\n",
              "      <td>Above R3 - S1</td>\n",
              "      <td>[R1-PP, Above R3]</td>\n",
              "      <td>Prices went Down</td>\n",
              "      <td>5</td>\n",
              "      <td>59</td>\n",
              "      <td>96</td>\n",
              "      <td>156</td>\n",
              "      <td>59</td>\n",
              "      <td>96</td>\n",
              "      <td>...</td>\n",
              "      <td>False</td>\n",
              "      <td>False</td>\n",
              "      <td>False</td>\n",
              "      <td>False</td>\n",
              "      <td>False</td>\n",
              "      <td>False</td>\n",
              "      <td>False</td>\n",
              "      <td>False</td>\n",
              "      <td>False</td>\n",
              "      <td>False</td>\n",
              "    </tr>\n",
              "    <tr>\n",
              "      <th>2025-01-04</th>\n",
              "      <td>[PP-R1, R1-R2, PP-R1, R1-R2, PP-R1, R1-R2, PP-...</td>\n",
              "      <td>R2 - PP</td>\n",
              "      <td>[R1-PP, R2-R1]</td>\n",
              "      <td>Prices went Up</td>\n",
              "      <td>2</td>\n",
              "      <td>79</td>\n",
              "      <td>128</td>\n",
              "      <td>207</td>\n",
              "      <td>79</td>\n",
              "      <td>128</td>\n",
              "      <td>...</td>\n",
              "      <td>False</td>\n",
              "      <td>False</td>\n",
              "      <td>False</td>\n",
              "      <td>False</td>\n",
              "      <td>False</td>\n",
              "      <td>False</td>\n",
              "      <td>False</td>\n",
              "      <td>False</td>\n",
              "      <td>False</td>\n",
              "      <td>False</td>\n",
              "    </tr>\n",
              "    <tr>\n",
              "      <th>2025-01-05</th>\n",
              "      <td>[PP-R1, R1-R2, PP-R1, S1-PP, PP-R1, S1-PP, PP-...</td>\n",
              "      <td>R2 - S2</td>\n",
              "      <td>[R1-PP, R1-PP]</td>\n",
              "      <td>Prices were Neutral</td>\n",
              "      <td>4</td>\n",
              "      <td>37</td>\n",
              "      <td>61</td>\n",
              "      <td>99</td>\n",
              "      <td>37</td>\n",
              "      <td>61</td>\n",
              "      <td>...</td>\n",
              "      <td>False</td>\n",
              "      <td>True</td>\n",
              "      <td>False</td>\n",
              "      <td>False</td>\n",
              "      <td>False</td>\n",
              "      <td>False</td>\n",
              "      <td>False</td>\n",
              "      <td>False</td>\n",
              "      <td>False</td>\n",
              "      <td>False</td>\n",
              "    </tr>\n",
              "    <tr>\n",
              "      <th>2025-01-06</th>\n",
              "      <td>[PP-R1, S1-PP, PP-R1, S1-PP, PP-R1, S1-PP, PP-...</td>\n",
              "      <td>Above R3 - S1</td>\n",
              "      <td>[R1-PP, R2-R1]</td>\n",
              "      <td>Prices went Up</td>\n",
              "      <td>5</td>\n",
              "      <td>31</td>\n",
              "      <td>50</td>\n",
              "      <td>82</td>\n",
              "      <td>31</td>\n",
              "      <td>50</td>\n",
              "      <td>...</td>\n",
              "      <td>True</td>\n",
              "      <td>False</td>\n",
              "      <td>False</td>\n",
              "      <td>False</td>\n",
              "      <td>False</td>\n",
              "      <td>False</td>\n",
              "      <td>False</td>\n",
              "      <td>False</td>\n",
              "      <td>False</td>\n",
              "      <td>False</td>\n",
              "    </tr>\n",
              "  </tbody>\n",
              "</table>\n",
              "<p>5 rows × 33 columns</p>\n",
              "</div>"
            ],
            "text/plain": [
              "                                                  pivot_zones  \\\n",
              "date                                                            \n",
              "2025-01-02  [PP-R1, R2-R3, R1-R2, PP-R1, R2-R3, R1-R2, R2-...   \n",
              "2025-01-03  [PP-R1, S1-PP, PP-R1, S1-PP, PP-R1, S1-PP, PP-...   \n",
              "2025-01-04  [PP-R1, R1-R2, PP-R1, R1-R2, PP-R1, R1-R2, PP-...   \n",
              "2025-01-05  [PP-R1, R1-R2, PP-R1, S1-PP, PP-R1, S1-PP, PP-...   \n",
              "2025-01-06  [PP-R1, S1-PP, PP-R1, S1-PP, PP-R1, S1-PP, PP-...   \n",
              "\n",
              "           consolidated_pivot_zones first_last_pivot_zones  \\\n",
              "date                                                         \n",
              "2025-01-02            Above R3 - PP      [R1-PP, Above R3]   \n",
              "2025-01-03            Above R3 - S1      [R1-PP, Above R3]   \n",
              "2025-01-04                  R2 - PP         [R1-PP, R2-R1]   \n",
              "2025-01-05                  R2 - S2         [R1-PP, R1-PP]   \n",
              "2025-01-06            Above R3 - S1         [R1-PP, R2-R1]   \n",
              "\n",
              "                        Summary  level_difference  diff_pp_r1  diff_pp_r2  \\\n",
              "date                                                                        \n",
              "2025-01-02     Prices went Down                 4          23          37   \n",
              "2025-01-03     Prices went Down                 5          59          96   \n",
              "2025-01-04       Prices went Up                 2          79         128   \n",
              "2025-01-05  Prices were Neutral                 4          37          61   \n",
              "2025-01-06       Prices went Up                 5          31          50   \n",
              "\n",
              "            diff_pp_r3  diff_pp_s1  diff_pp_s2  ...  crosses_down_r3  \\\n",
              "date                                            ...                    \n",
              "2025-01-02          61          23          37  ...             True   \n",
              "2025-01-03         156          59          96  ...            False   \n",
              "2025-01-04         207          79         128  ...            False   \n",
              "2025-01-05          99          37          61  ...            False   \n",
              "2025-01-06          82          31          50  ...             True   \n",
              "\n",
              "            touches_s1  crosses_up_s1  crosses_down_s1  touches_s2  \\\n",
              "date                                                                 \n",
              "2025-01-02       False          False            False       False   \n",
              "2025-01-03       False          False            False       False   \n",
              "2025-01-04       False          False            False       False   \n",
              "2025-01-05        True          False            False       False   \n",
              "2025-01-06       False          False            False       False   \n",
              "\n",
              "            crosses_up_s2  crosses_down_s2  touches_s3  crosses_up_s3  \\\n",
              "date                                                                    \n",
              "2025-01-02          False            False       False          False   \n",
              "2025-01-03          False            False       False          False   \n",
              "2025-01-04          False            False       False          False   \n",
              "2025-01-05          False            False       False          False   \n",
              "2025-01-06          False            False       False          False   \n",
              "\n",
              "            crosses_down_s3  \n",
              "date                         \n",
              "2025-01-02            False  \n",
              "2025-01-03            False  \n",
              "2025-01-04            False  \n",
              "2025-01-05            False  \n",
              "2025-01-06            False  \n",
              "\n",
              "[5 rows x 33 columns]"
            ]
          },
          "execution_count": 359,
          "metadata": {},
          "output_type": "execute_result"
        }
      ],
      "source": [
        "grouped_df.head(5)"
      ]
    },
    {
      "cell_type": "code",
      "execution_count": null,
      "id": "f749f3b8-fb10-4f6a-936e-d9a887a0c016",
      "metadata": {
        "id": "f749f3b8-fb10-4f6a-936e-d9a887a0c016"
      },
      "outputs": [],
      "source": [
        "# # Convert each element inside the list to a plain string\n",
        "# grouped_df['first_last_pivot_zones'] = grouped_df['first_last_pivot_zones'].apply(lambda x: [str(item) for item in x] if isinstance(x, list) else x)\n",
        "\n",
        "# # Convert list to a properly formatted string (comma-separated)\n",
        "# grouped_df['first_last_pivot_zones'] = grouped_df['first_last_pivot_zones'].apply(lambda x: ', '.join(x) if isinstance(x, list) else x)"
      ]
    },
    {
      "cell_type": "code",
      "execution_count": null,
      "id": "bccd6ff7-945c-48e3-8be3-7481adddbc10",
      "metadata": {
        "id": "bccd6ff7-945c-48e3-8be3-7481adddbc10",
        "outputId": "a7c55b2f-0fd6-4701-b753-4d82f151e211"
      },
      "outputs": [
        {
          "data": {
            "text/plain": [
              "array(['PP-R1', 'R2-R3', 'R1-R2', 'PP-R1', 'R2-R3', 'R1-R2', 'R2-R3',\n",
              "       'R1-R2', 'R2-R3', 'R1-R2', 'R2-R3', 'R1-R2', 'R2-R3', 'R1-R2',\n",
              "       'R2-R3', 'R1-R2', 'R2-R3', 'R1-R2', 'R2-R3', 'Above R3', 'R2-R3',\n",
              "       'Above R3', 'R2-R3', 'Above R3'], dtype='<U8')"
            ]
          },
          "execution_count": 361,
          "metadata": {},
          "output_type": "execute_result"
        }
      ],
      "source": [
        "grouped_df['pivot_zones'].iloc[0]"
      ]
    },
    {
      "cell_type": "code",
      "execution_count": null,
      "id": "2e4eafe8-a123-45b5-b08f-b5eb36b14d01",
      "metadata": {
        "id": "2e4eafe8-a123-45b5-b08f-b5eb36b14d01"
      },
      "outputs": [],
      "source": [
        "grouped_df.to_csv(f\"{filename}_group_by_date_new.csv\")"
      ]
    },
    {
      "cell_type": "code",
      "execution_count": null,
      "id": "987ca798-910a-4b8f-a0ef-4cb2d563bdae",
      "metadata": {
        "id": "987ca798-910a-4b8f-a0ef-4cb2d563bdae"
      },
      "outputs": [],
      "source": [
        "# df.iloc[:,-7:] = round(df.iloc[:,-7:])"
      ]
    },
    {
      "cell_type": "code",
      "execution_count": null,
      "id": "a5a9c7a2-c29b-4b54-b075-6e8a2fb07e8a",
      "metadata": {
        "id": "a5a9c7a2-c29b-4b54-b075-6e8a2fb07e8a"
      },
      "outputs": [],
      "source": []
    },
    {
      "cell_type": "code",
      "execution_count": null,
      "id": "6a610d7e-ed9c-4e9e-983c-89dcfd8636e5",
      "metadata": {
        "id": "6a610d7e-ed9c-4e9e-983c-89dcfd8636e5"
      },
      "outputs": [],
      "source": [
        "# df['diff_pp_r1'] = round(df['diff_pp_r1'])"
      ]
    },
    {
      "cell_type": "code",
      "execution_count": null,
      "id": "13877b9b-64ba-458b-bcbe-fb6f7238dae8",
      "metadata": {
        "id": "13877b9b-64ba-458b-bcbe-fb6f7238dae8",
        "outputId": "16f6e4ff-9431-443b-8f6e-ca0eedd3c6ed"
      },
      "outputs": [
        {
          "data": {
            "text/html": [
              "<div>\n",
              "<style scoped>\n",
              "    .dataframe tbody tr th:only-of-type {\n",
              "        vertical-align: middle;\n",
              "    }\n",
              "\n",
              "    .dataframe tbody tr th {\n",
              "        vertical-align: top;\n",
              "    }\n",
              "\n",
              "    .dataframe thead th {\n",
              "        text-align: right;\n",
              "    }\n",
              "</style>\n",
              "<table border=\"1\" class=\"dataframe\">\n",
              "  <thead>\n",
              "    <tr style=\"text-align: right;\">\n",
              "      <th></th>\n",
              "      <th>s3</th>\n",
              "      <th>touches_pp</th>\n",
              "      <th>crosses_up_pp</th>\n",
              "      <th>crosses_down_pp</th>\n",
              "      <th>pivot_zones</th>\n",
              "      <th>touches_r1</th>\n",
              "      <th>crosses_up_r1</th>\n",
              "      <th>crosses_down_r1</th>\n",
              "      <th>touches_r2</th>\n",
              "      <th>crosses_up_r2</th>\n",
              "      <th>crosses_down_r2</th>\n",
              "      <th>touches_r3</th>\n",
              "    </tr>\n",
              "  </thead>\n",
              "  <tbody>\n",
              "    <tr>\n",
              "      <th>0</th>\n",
              "      <td>2237.133333</td>\n",
              "      <td>False</td>\n",
              "      <td>False</td>\n",
              "      <td>False</td>\n",
              "      <td>R1-R2, PP-R1</td>\n",
              "      <td>True</td>\n",
              "      <td>True</td>\n",
              "      <td>False</td>\n",
              "      <td>False</td>\n",
              "      <td>False</td>\n",
              "      <td>False</td>\n",
              "      <td>False</td>\n",
              "    </tr>\n",
              "    <tr>\n",
              "      <th>1</th>\n",
              "      <td>2237.133333</td>\n",
              "      <td>False</td>\n",
              "      <td>False</td>\n",
              "      <td>False</td>\n",
              "      <td>R2-R3, R1-R2, PP-R1</td>\n",
              "      <td>True</td>\n",
              "      <td>False</td>\n",
              "      <td>False</td>\n",
              "      <td>True</td>\n",
              "      <td>False</td>\n",
              "      <td>False</td>\n",
              "      <td>False</td>\n",
              "    </tr>\n",
              "    <tr>\n",
              "      <th>2</th>\n",
              "      <td>2237.133333</td>\n",
              "      <td>False</td>\n",
              "      <td>False</td>\n",
              "      <td>False</td>\n",
              "      <td>R2-R3, R1-R2</td>\n",
              "      <td>False</td>\n",
              "      <td>False</td>\n",
              "      <td>False</td>\n",
              "      <td>True</td>\n",
              "      <td>True</td>\n",
              "      <td>False</td>\n",
              "      <td>False</td>\n",
              "    </tr>\n",
              "    <tr>\n",
              "      <th>3</th>\n",
              "      <td>2237.133333</td>\n",
              "      <td>False</td>\n",
              "      <td>False</td>\n",
              "      <td>False</td>\n",
              "      <td>R2-R3</td>\n",
              "      <td>False</td>\n",
              "      <td>False</td>\n",
              "      <td>False</td>\n",
              "      <td>False</td>\n",
              "      <td>False</td>\n",
              "      <td>False</td>\n",
              "      <td>False</td>\n",
              "    </tr>\n",
              "    <tr>\n",
              "      <th>4</th>\n",
              "      <td>2237.133333</td>\n",
              "      <td>False</td>\n",
              "      <td>False</td>\n",
              "      <td>False</td>\n",
              "      <td>R2-R3</td>\n",
              "      <td>False</td>\n",
              "      <td>False</td>\n",
              "      <td>False</td>\n",
              "      <td>False</td>\n",
              "      <td>False</td>\n",
              "      <td>False</td>\n",
              "      <td>False</td>\n",
              "    </tr>\n",
              "    <tr>\n",
              "      <th>...</th>\n",
              "      <td>...</td>\n",
              "      <td>...</td>\n",
              "      <td>...</td>\n",
              "      <td>...</td>\n",
              "      <td>...</td>\n",
              "      <td>...</td>\n",
              "      <td>...</td>\n",
              "      <td>...</td>\n",
              "      <td>...</td>\n",
              "      <td>...</td>\n",
              "      <td>...</td>\n",
              "      <td>...</td>\n",
              "    </tr>\n",
              "    <tr>\n",
              "      <th>39750</th>\n",
              "      <td>2525.196667</td>\n",
              "      <td>False</td>\n",
              "      <td>False</td>\n",
              "      <td>False</td>\n",
              "      <td>S1-PP</td>\n",
              "      <td>False</td>\n",
              "      <td>False</td>\n",
              "      <td>False</td>\n",
              "      <td>False</td>\n",
              "      <td>False</td>\n",
              "      <td>False</td>\n",
              "      <td>False</td>\n",
              "    </tr>\n",
              "    <tr>\n",
              "      <th>39751</th>\n",
              "      <td>2525.196667</td>\n",
              "      <td>False</td>\n",
              "      <td>False</td>\n",
              "      <td>False</td>\n",
              "      <td>S1-PP</td>\n",
              "      <td>False</td>\n",
              "      <td>False</td>\n",
              "      <td>False</td>\n",
              "      <td>False</td>\n",
              "      <td>False</td>\n",
              "      <td>False</td>\n",
              "      <td>False</td>\n",
              "    </tr>\n",
              "    <tr>\n",
              "      <th>39752</th>\n",
              "      <td>2525.196667</td>\n",
              "      <td>True</td>\n",
              "      <td>True</td>\n",
              "      <td>False</td>\n",
              "      <td>PP-R1, S1-PP</td>\n",
              "      <td>False</td>\n",
              "      <td>False</td>\n",
              "      <td>False</td>\n",
              "      <td>False</td>\n",
              "      <td>False</td>\n",
              "      <td>False</td>\n",
              "      <td>False</td>\n",
              "    </tr>\n",
              "    <tr>\n",
              "      <th>39753</th>\n",
              "      <td>2525.196667</td>\n",
              "      <td>True</td>\n",
              "      <td>False</td>\n",
              "      <td>False</td>\n",
              "      <td>PP-R1, S1-PP</td>\n",
              "      <td>False</td>\n",
              "      <td>False</td>\n",
              "      <td>False</td>\n",
              "      <td>False</td>\n",
              "      <td>False</td>\n",
              "      <td>False</td>\n",
              "      <td>False</td>\n",
              "    </tr>\n",
              "    <tr>\n",
              "      <th>39754</th>\n",
              "      <td>2525.196667</td>\n",
              "      <td>False</td>\n",
              "      <td>False</td>\n",
              "      <td>False</td>\n",
              "      <td>PP-R1</td>\n",
              "      <td>False</td>\n",
              "      <td>False</td>\n",
              "      <td>False</td>\n",
              "      <td>False</td>\n",
              "      <td>False</td>\n",
              "      <td>False</td>\n",
              "      <td>False</td>\n",
              "    </tr>\n",
              "  </tbody>\n",
              "</table>\n",
              "<p>39755 rows × 12 columns</p>\n",
              "</div>"
            ],
            "text/plain": [
              "                s3  touches_pp  crosses_up_pp  crosses_down_pp  \\\n",
              "0      2237.133333       False          False            False   \n",
              "1      2237.133333       False          False            False   \n",
              "2      2237.133333       False          False            False   \n",
              "3      2237.133333       False          False            False   \n",
              "4      2237.133333       False          False            False   \n",
              "...            ...         ...            ...              ...   \n",
              "39750  2525.196667       False          False            False   \n",
              "39751  2525.196667       False          False            False   \n",
              "39752  2525.196667        True           True            False   \n",
              "39753  2525.196667        True          False            False   \n",
              "39754  2525.196667       False          False            False   \n",
              "\n",
              "               pivot_zones  touches_r1  crosses_up_r1  crosses_down_r1  \\\n",
              "0             R1-R2, PP-R1        True           True            False   \n",
              "1      R2-R3, R1-R2, PP-R1        True          False            False   \n",
              "2             R2-R3, R1-R2       False          False            False   \n",
              "3                    R2-R3       False          False            False   \n",
              "4                    R2-R3       False          False            False   \n",
              "...                    ...         ...            ...              ...   \n",
              "39750                S1-PP       False          False            False   \n",
              "39751                S1-PP       False          False            False   \n",
              "39752         PP-R1, S1-PP       False          False            False   \n",
              "39753         PP-R1, S1-PP       False          False            False   \n",
              "39754                PP-R1       False          False            False   \n",
              "\n",
              "       touches_r2  crosses_up_r2  crosses_down_r2  touches_r3  \n",
              "0           False          False            False       False  \n",
              "1            True          False            False       False  \n",
              "2            True           True            False       False  \n",
              "3           False          False            False       False  \n",
              "4           False          False            False       False  \n",
              "...           ...            ...              ...         ...  \n",
              "39750       False          False            False       False  \n",
              "39751       False          False            False       False  \n",
              "39752       False          False            False       False  \n",
              "39753       False          False            False       False  \n",
              "39754       False          False            False       False  \n",
              "\n",
              "[39755 rows x 12 columns]"
            ]
          },
          "execution_count": 74,
          "metadata": {},
          "output_type": "execute_result"
        }
      ],
      "source": [
        "df.iloc[:,-30:-18]"
      ]
    },
    {
      "cell_type": "code",
      "execution_count": null,
      "id": "8717dcb4-c637-4564-9fc8-5f468b29e749",
      "metadata": {
        "id": "8717dcb4-c637-4564-9fc8-5f468b29e749",
        "outputId": "c28b9cf2-c82a-4941-bf04-dc6fbcbaa372"
      },
      "outputs": [
        {
          "data": {
            "text/plain": [
              "array(['PP-R1', 'PP-R1', 'PP-R1', 'PP-R1', 'PP-R1', 'PP-R1, S1-PP',\n",
              "       'PP-R1, S1-PP', 'S1-PP', 'S1-PP', 'S1-PP', 'S1-PP', 'S1-PP',\n",
              "       'S1-PP', 'PP-R1, S1-PP', 'PP-R1, S1-PP', 'PP-R1', 'PP-R1', 'PP-R1',\n",
              "       'PP-R1', 'PP-R1', 'PP-R1', 'PP-R1', 'PP-R1', 'PP-R1', 'PP-R1',\n",
              "       'PP-R1', 'PP-R1', 'PP-R1', 'PP-R1', 'PP-R1', 'PP-R1', 'PP-R1',\n",
              "       'PP-R1', 'PP-R1', 'PP-R1', 'PP-R1', 'PP-R1', 'PP-R1', 'PP-R1',\n",
              "       'PP-R1', 'PP-R1', 'PP-R1', 'PP-R1', 'PP-R1', 'PP-R1', 'PP-R1',\n",
              "       'PP-R1', 'PP-R1', 'PP-R1', 'PP-R1', 'PP-R1', 'PP-R1', 'PP-R1',\n",
              "       'PP-R1', 'PP-R1', 'R1-R2, PP-R1', 'PP-R1', 'PP-R1', 'PP-R1',\n",
              "       'PP-R1', 'PP-R1', 'PP-R1', 'PP-R1', 'PP-R1', 'PP-R1', 'PP-R1',\n",
              "       'PP-R1', 'PP-R1', 'PP-R1', 'R1-R2, PP-R1', 'PP-R1', 'PP-R1',\n",
              "       'R1-R2, PP-R1', 'R1-R2, PP-R1', 'R1-R2, PP-R1', 'PP-R1',\n",
              "       'R1-R2, PP-R1', 'R1-R2', 'R1-R2, PP-R1', 'PP-R1', 'PP-R1', 'PP-R1',\n",
              "       'PP-R1', 'R1-R2, PP-R1', 'R1-R2, PP-R1', 'PP-R1', 'PP-R1', 'PP-R1',\n",
              "       'PP-R1', 'PP-R1', 'PP-R1', 'PP-R1', 'PP-R1', 'PP-R1', 'PP-R1',\n",
              "       'PP-R1'], dtype=object)"
            ]
          },
          "execution_count": 118,
          "metadata": {},
          "output_type": "execute_result"
        }
      ],
      "source": [
        "df[df['date'] == '2025-02-10']['pivot_zones']"
      ]
    },
    {
      "cell_type": "code",
      "execution_count": null,
      "id": "279ffafc-3762-4f82-9f6d-24a87da8f2a8",
      "metadata": {
        "id": "279ffafc-3762-4f82-9f6d-24a87da8f2a8",
        "outputId": "04adb82d-40d3-4a87-c50c-6af9716491a6"
      },
      "outputs": [
        {
          "name": "stdout",
          "output_type": "stream",
          "text": [
            "['PP-R1' 'S1-PP' 'PP-R1' 'S1-PP' 'PP-R1' 'S1-PP' 'PP-R1' 'S1-PP' 'PP-R1'\n",
            " 'R1-R2' 'PP-R1' 'R1-R2' 'PP-R1' 'R1-R2' 'PP-R1' 'R1-R2' 'PP-R1' 'R1-R2'\n",
            " 'PP-R1' 'R1-R2' 'PP-R1' 'R1-R2' 'PP-R1' 'R1-R2' 'PP-R1' 'R1-R2' 'PP-R1']\n"
          ]
        }
      ],
      "source": [
        "# Example array\n",
        "zones_array = np.array([\n",
        "    'PP-R1', 'PP-R1', 'PP-R1', 'PP-R1', 'PP-R1', 'PP-R1, S1-PP',\n",
        "    'PP-R1, S1-PP', 'S1-PP', 'S1-PP', 'S1-PP', 'S1-PP', 'S1-PP',\n",
        "    'S1-PP', 'PP-R1, S1-PP', 'PP-R1, S1-PP', 'PP-R1', 'PP-R1', 'PP-R1',\n",
        "    'PP-R1', 'PP-R1', 'PP-R1', 'PP-R1', 'PP-R1', 'PP-R1', 'PP-R1',\n",
        "    'PP-R1', 'PP-R1', 'PP-R1', 'PP-R1', 'PP-R1', 'PP-R1', 'PP-R1',\n",
        "    'PP-R1', 'PP-R1', 'PP-R1', 'PP-R1', 'PP-R1', 'PP-R1', 'PP-R1',\n",
        "    'PP-R1', 'PP-R1', 'PP-R1', 'PP-R1', 'PP-R1', 'PP-R1', 'PP-R1',\n",
        "    'PP-R1', 'PP-R1', 'PP-R1', 'PP-R1', 'PP-R1', 'PP-R1', 'PP-R1',\n",
        "    'PP-R1', 'PP-R1', 'R1-R2, PP-R1', 'PP-R1', 'PP-R1', 'PP-R1',\n",
        "    'PP-R1', 'PP-R1', 'PP-R1', 'PP-R1', 'PP-R1', 'PP-R1', 'PP-R1',\n",
        "    'PP-R1', 'PP-R1', 'PP-R1', 'R1-R2, PP-R1', 'PP-R1', 'PP-R1',\n",
        "    'R1-R2, PP-R1', 'R1-R2, PP-R1', 'R1-R2, PP-R1', 'PP-R1',\n",
        "    'R1-R2, PP-R1', 'R1-R2', 'R1-R2, PP-R1', 'PP-R1', 'PP-R1', 'PP-R1',\n",
        "    'PP-R1', 'R1-R2, PP-R1', 'R1-R2, PP-R1', 'PP-R1', 'PP-R1', 'PP-R1',\n",
        "    'PP-R1', 'PP-R1', 'PP-R1', 'PP-R1', 'PP-R1', 'PP-R1', 'PP-R1',\n",
        "    'PP-R1'\n",
        "])\n",
        "\n",
        "# Apply function\n",
        "filtered_zones = split_and_remove_consecutive_duplicates(zones_array)\n",
        "print(filtered_zones)"
      ]
    },
    {
      "cell_type": "code",
      "execution_count": null,
      "id": "3287ddfb-cd45-40ee-9d36-27d9efb154c8",
      "metadata": {
        "id": "3287ddfb-cd45-40ee-9d36-27d9efb154c8",
        "outputId": "302f4edc-5da4-4a70-940f-687a988c1c42"
      },
      "outputs": [
        {
          "data": {
            "text/plain": [
              "array(['PP-R1', 'S1-PP', 'PP-R1', 'S1-PP', 'PP-R1', 'S1-PP', 'PP-R1',\n",
              "       'S1-PP', 'PP-R1', 'R1-R2', 'PP-R1', 'R1-R2', 'PP-R1', 'R1-R2',\n",
              "       'PP-R1', 'R1-R2', 'PP-R1', 'R1-R2', 'PP-R1', 'R1-R2', 'PP-R1',\n",
              "       'R1-R2', 'PP-R1', 'R1-R2', 'PP-R1', 'R1-R2', 'PP-R1'], dtype='<U5')"
            ]
          },
          "execution_count": 128,
          "metadata": {},
          "output_type": "execute_result"
        }
      ],
      "source": [
        "filtered_zones"
      ]
    },
    {
      "cell_type": "code",
      "execution_count": null,
      "id": "649dd158-2c27-4588-930c-ced7e349049a",
      "metadata": {
        "id": "649dd158-2c27-4588-930c-ced7e349049a",
        "outputId": "3a935a74-8209-4af2-ab94-f6ccc0fba3f7"
      },
      "outputs": [
        {
          "data": {
            "text/plain": [
              "array(['R1-PP', 'PP-S1', 'R1-PP', 'PP-S1', 'R1-PP', 'PP-S1', 'R1-PP',\n",
              "       'PP-S1', 'R1-PP', 'R2-R1', 'R1-PP', 'R2-R1', 'R1-PP', 'R2-R1',\n",
              "       'R1-PP', 'R2-R1', 'R1-PP', 'R2-R1', 'R1-PP', 'R2-R1', 'R1-PP',\n",
              "       'R2-R1', 'R1-PP', 'R2-R1', 'R1-PP', 'R2-R1', 'R1-PP'], dtype='<U5')"
            ]
          },
          "execution_count": 129,
          "metadata": {},
          "output_type": "execute_result"
        }
      ],
      "source": [
        "reverse_zones(filtered_zones)"
      ]
    },
    {
      "cell_type": "code",
      "execution_count": null,
      "id": "ec02e41a-7112-43b2-b4c2-0cc5c3e0c1c0",
      "metadata": {
        "id": "ec02e41a-7112-43b2-b4c2-0cc5c3e0c1c0"
      },
      "outputs": [],
      "source": [
        "diff_pp_r1 = df['diff_pp_r1']\n",
        "unique_diff_pp_r1 = diff_pp_r1.unique()"
      ]
    },
    {
      "cell_type": "code",
      "execution_count": null,
      "id": "d1526369-8d70-440a-b742-29a00eed7829",
      "metadata": {
        "id": "d1526369-8d70-440a-b742-29a00eed7829",
        "outputId": "6cfffe56-7722-4d04-e790-85eeddcdeeb9"
      },
      "outputs": [
        {
          "data": {
            "text/plain": [
              "414"
            ]
          },
          "execution_count": 79,
          "metadata": {},
          "output_type": "execute_result"
        }
      ],
      "source": [
        "len(unique_diff_pp_r1)"
      ]
    },
    {
      "cell_type": "code",
      "execution_count": null,
      "id": "6447034c-7733-4df3-b619-3b4ef59ca1d1",
      "metadata": {
        "id": "6447034c-7733-4df3-b619-3b4ef59ca1d1",
        "outputId": "e4c99e98-25db-41ba-c73c-1d7ef7d0ab7f"
      },
      "outputs": [
        {
          "data": {
            "text/plain": [
              "(12.11, 320.56, 36.58, 52.11, 74.53)"
            ]
          },
          "execution_count": 58,
          "metadata": {},
          "output_type": "execute_result"
        }
      ],
      "source": [
        "# Compute min, max, and 25th percentile\n",
        "min_val = float(round(np.min(unique_diff_pp_r1),2))\n",
        "max_val = float(round(np.max(unique_diff_pp_r1),2))\n",
        "percentile_25 = float(round(np.percentile(unique_diff_pp_r1, 25),2))\n",
        "percentile_50 = float(round(np.percentile(unique_diff_pp_r1, 50),2))\n",
        "percentile_75 = float(round(np.percentile(unique_diff_pp_r1, 75),2))\n",
        "\n",
        "min_val, max_val, percentile_25, percentile_50, percentile_75"
      ]
    },
    {
      "cell_type": "code",
      "execution_count": null,
      "id": "856fd48a-8f64-42f0-b770-50b9c56082d9",
      "metadata": {
        "id": "856fd48a-8f64-42f0-b770-50b9c56082d9",
        "outputId": "2ab314e5-8da4-4489-935b-df5c436dfebf"
      },
      "outputs": [
        {
          "data": {
            "text/plain": [
              "20.56"
            ]
          },
          "execution_count": 61,
          "metadata": {},
          "output_type": "execute_result"
        }
      ],
      "source": [
        "number_of_bins = 15\n",
        "bin_size = float(round(((max_val - min_val)/number_of_bins),2))\n",
        "bin_size"
      ]
    },
    {
      "cell_type": "code",
      "execution_count": null,
      "id": "4e2c28c4-a862-48f5-aac2-3627b738fbc1",
      "metadata": {
        "id": "4e2c28c4-a862-48f5-aac2-3627b738fbc1",
        "outputId": "1eb1afdd-a28a-44e5-a7a2-fde9e33c6c44"
      },
      "outputs": [
        {
          "data": {
            "image/png": "[encoded data removed]",
            "text/plain": [
              "<Figure size 1000x500 with 1 Axes>"
            ]
          },
          "metadata": {},
          "output_type": "display_data"
        }
      ],
      "source": [
        "# Create histogram\n",
        "plt.figure(figsize=(10, 5))\n",
        "counts, bins, patches = plt.hist(unique_diff_pp_r1, bins=number_of_bins, edgecolor='black', alpha=0.7)\n",
        "\n",
        "# Annotate each bin with its count\n",
        "for count, bin_patch in zip(counts, patches):\n",
        "    plt.text(bin_patch.get_x() + bin_patch.get_width() / 2, count,\n",
        "             str(int(count)), ha='center', va='bottom', fontsize=10, fontweight='bold')\n",
        "\n",
        "# Round x-axis bin labels to no decimal places\n",
        "rounded_bins = [int(round(b)) for b in bins]  # Round bin edges\n",
        "plt.xticks(rounded_bins)  # Set new x-tick labels\n",
        "\n",
        "# Labels and title\n",
        "plt.xlabel('Value')\n",
        "plt.ylabel('Frequency')\n",
        "plt.title('Histogram of Data')\n",
        "plt.grid(axis='y', linestyle='--', alpha=0.7)\n",
        "plt.show()"
      ]
    },
    {
      "cell_type": "code",
      "execution_count": null,
      "id": "e66229df-7fa3-4af0-9b82-d54ac9d36907",
      "metadata": {
        "id": "e66229df-7fa3-4af0-9b82-d54ac9d36907",
        "outputId": "623fbd2a-3270-48e4-ff45-a1cb84f93156"
      },
      "outputs": [
        {
          "data": {
            "image/png": "[encoded data removed]",
            "text/plain": [
              "<Figure size 1000x500 with 1 Axes>"
            ]
          },
          "metadata": {},
          "output_type": "display_data"
        },
        {
          "name": "stdout",
          "output_type": "stream",
          "text": [
            "            Min  Max      Mean  Mode\n",
            "diff_pp_r1                          \n",
            "(12, 22]    3.0  7.0  5.038462   5.0\n",
            "(22, 32]    2.0  7.0  4.697674   4.0\n",
            "(32, 42]    2.0  7.0  4.233333   4.0\n",
            "(42, 52]    1.0  7.0  3.894737   4.0\n",
            "(52, 62]    2.0  7.0  3.907407   4.0\n",
            "(62, 72]    2.0  7.0  3.422222   4.0\n",
            "(72, 82]    2.0  5.0  3.423077   4.0\n",
            "(82, 92]    2.0  6.0  3.500000   4.0\n",
            "(92, 102]   2.0  5.0  2.842105   2.0\n",
            "(102, 112]  2.0  5.0  3.461538   3.0\n",
            "(112, 122]  1.0  3.0  2.125000   2.0\n",
            "(122, 132]  2.0  4.0  3.285714   3.0\n",
            "(132, 142]  3.0  3.0  3.000000   3.0\n",
            "(142, 152]  2.0  4.0  3.000000   2.0\n",
            "(152, 162]  2.0  5.0  3.333333   2.0\n",
            "(162, 172]  2.0  4.0  2.666667   2.0\n",
            "(172, 182]  NaN  NaN       NaN   NaN\n",
            "(182, 192]  2.0  4.0  3.000000   2.0\n",
            "(192, 202]  2.0  2.0  2.000000   2.0\n",
            "(202, 212]  3.0  3.0  3.000000   3.0\n",
            "(212, 222]  NaN  NaN       NaN   NaN\n",
            "(222, 232]  1.0  1.0  1.000000   1.0\n",
            "(232, 242]  3.0  3.0  3.000000   3.0\n",
            "(242, 252]  2.0  2.0  2.000000   2.0\n",
            "(252, 262]  NaN  NaN       NaN   NaN\n",
            "(262, 272]  NaN  NaN       NaN   NaN\n",
            "(272, 282]  NaN  NaN       NaN   NaN\n",
            "(282, 292]  NaN  NaN       NaN   NaN\n",
            "(292, 302]  NaN  NaN       NaN   NaN\n",
            "(302, 312]  NaN  NaN       NaN   NaN\n",
            "(312, 322]  1.0  1.0  1.000000   1.0\n"
          ]
        },
        {
          "name": "stderr",
          "output_type": "stream",
          "text": [
            "C:\\Users\\Admin\\AppData\\Local\\Temp\\ipykernel_15596\\2528505150.py:33: FutureWarning: The default of observed=False is deprecated and will be changed to True in a future version of pandas. Pass observed=False to retain current behavior or observed=True to adopt the future default and silence this warning.\n",
            "  grouped_stats = grouped_df.groupby(pd.cut(grouped_df['diff_pp_r1'], bins=bin_edges))['level_difference'].agg(['min', 'max', 'mean', safe_mode])\n",
            "C:\\Users\\Admin\\AppData\\Local\\Temp\\ipykernel_15596\\2528505150.py:30: SmallSampleWarning: One or more sample arguments is too small; all returned values will be NaN. See documentation for sample size requirements.\n",
            "  m = mode(x, keepdims=True)\n"
          ]
        }
      ],
      "source": [
        "from scipy.stats import mode\n",
        "\n",
        "# Example: Extract diff_pp_r1 values from grouped_df\n",
        "diff_pp_r1_values = grouped_df['diff_pp_r1'].dropna()\n",
        "\n",
        "# Define bin edges with step size of 10\n",
        "min_val = int(diff_pp_r1_values.min())\n",
        "max_val = int(diff_pp_r1_values.max())\n",
        "bin_edges = np.arange(min_val, max_val + 10, 10)\n",
        "\n",
        "# Create histogram\n",
        "plt.figure(figsize=(10, 5))\n",
        "counts, bins, patches = plt.hist(diff_pp_r1_values, bins=bin_edges, edgecolor='black', alpha=0.7)\n",
        "\n",
        "# Annotate each bin with its count\n",
        "for count, bin_patch in zip(counts, patches):\n",
        "    plt.text(bin_patch.get_x() + bin_patch.get_width() / 2, count,\n",
        "             str(int(count)), ha='center', va='bottom', fontsize=10, fontweight='bold')\n",
        "\n",
        "# Set x-axis bin labels\n",
        "plt.xticks(bin_edges)\n",
        "plt.xlabel('diff_pp_r1 Value')\n",
        "plt.ylabel('Frequency')\n",
        "plt.title('Histogram of diff_pp_r1 (Bin size = 10)')\n",
        "plt.grid(axis='y', linestyle='--', alpha=0.7)\n",
        "plt.show()\n",
        "\n",
        "# Compute statistics for level_difference per 10-unit interval\n",
        "def safe_mode(x):\n",
        "    m = mode(x, keepdims=True)\n",
        "    return m.mode[0] if m.count.size > 0 else np.nan  # Handle empty cases\n",
        "\n",
        "grouped_stats = grouped_df.groupby(pd.cut(grouped_df['diff_pp_r1'], bins=bin_edges))['level_difference'].agg(['min', 'max', 'mean', safe_mode])\n",
        "grouped_stats.columns = ['Min', 'Max', 'Mean', 'Mode']\n",
        "\n",
        "# Display results\n",
        "print(grouped_stats)\n"
      ]
    },
    {
      "cell_type": "code",
      "execution_count": null,
      "id": "b1962c0e-1cd2-46b1-a489-56a6615600a1",
      "metadata": {
        "id": "b1962c0e-1cd2-46b1-a489-56a6615600a1",
        "outputId": "4f19fe84-23f3-45e5-db2b-754aa349f1ad"
      },
      "outputs": [
        {
          "name": "stdout",
          "output_type": "stream",
          "text": [
            "Collecting scipyNote: you may need to restart the kernel to use updated packages.\n",
            "\n",
            "  Downloading scipy-1.15.2-cp312-cp312-win_amd64.whl.metadata (60 kB)\n",
            "Requirement already satisfied: numpy<2.5,>=1.23.5 in c:\\users\\admin\\anaconda3\\envs\\moondev\\lib\\site-packages (from scipy) (2.0.1)\n",
            "Downloading scipy-1.15.2-cp312-cp312-win_amd64.whl (40.9 MB)\n",
            "   ---------------------------------------- 0.0/40.9 MB ? eta -:--:--\n",
            "   ---- ----------------------------------- 4.5/40.9 MB 24.4 MB/s eta 0:00:02\n",
            "   -------- ------------------------------- 8.4/40.9 MB 21.7 MB/s eta 0:00:02\n",
            "   ------------ --------------------------- 12.3/40.9 MB 20.3 MB/s eta 0:00:02\n",
            "   ---------------- ----------------------- 17.3/40.9 MB 21.4 MB/s eta 0:00:02\n",
            "   --------------------- ------------------ 21.8/40.9 MB 21.2 MB/s eta 0:00:01\n",
            "   ------------------------ --------------- 24.6/40.9 MB 20.5 MB/s eta 0:00:01\n",
            "   --------------------------- ------------ 28.0/40.9 MB 19.5 MB/s eta 0:00:01\n",
            "   ------------------------------ --------- 30.9/40.9 MB 19.1 MB/s eta 0:00:01\n",
            "   ---------------------------------- ----- 35.1/40.9 MB 18.9 MB/s eta 0:00:01\n",
            "   ------------------------------------- -- 38.8/40.9 MB 18.7 MB/s eta 0:00:01\n",
            "   ---------------------------------------  40.9/40.9 MB 18.3 MB/s eta 0:00:01\n",
            "   ---------------------------------------- 40.9/40.9 MB 17.7 MB/s eta 0:00:00\n",
            "Installing collected packages: scipy\n",
            "Successfully installed scipy-1.15.2\n"
          ]
        }
      ],
      "source": [
        "pip install scipy"
      ]
    },
    {
      "cell_type": "code",
      "execution_count": null,
      "id": "57b8c9f2-d6b1-4500-b113-3c1db76824ca",
      "metadata": {
        "id": "57b8c9f2-d6b1-4500-b113-3c1db76824ca",
        "outputId": "6090f788-1002-47c5-d3c3-f27de977c71e"
      },
      "outputs": [
        {
          "data": {
            "image/png": "[encoded data removed]",
            "text/plain": [
              "<Figure size 1000x500 with 1 Axes>"
            ]
          },
          "metadata": {},
          "output_type": "display_data"
        }
      ],
      "source": [
        "plt.figure(figsize=(10, 5))\n",
        "counts, bins, patches = plt.hist(unique_diff_pp_r1, bins=number_of_bins, edgecolor='black', alpha=0.7)\n",
        "\n",
        "# Annotate each bin with its count\n",
        "for count, bin_patch in zip(counts, patches):\n",
        "    plt.text(bin_patch.get_x() + bin_patch.get_width() / 2, count,\n",
        "             str(int(count)), ha='center', va='bottom', fontsize=10, fontweight='bold')\n",
        "\n",
        "# Labels and title\n",
        "plt.xlabel('Value')\n",
        "plt.ylabel('Frequency')\n",
        "plt.title('Histogram of Data')\n",
        "plt.grid(axis='y', linestyle='--', alpha=0.7)\n",
        "plt.show()"
      ]
    },
    {
      "cell_type": "code",
      "execution_count": null,
      "id": "c1d92333-a5de-4bdf-802f-45b15ba1a57b",
      "metadata": {
        "id": "c1d92333-a5de-4bdf-802f-45b15ba1a57b",
        "outputId": "3c4e7abf-e287-4e13-d0fe-7df437b34edb"
      },
      "outputs": [
        {
          "data": {
            "image/png": "[encoded data removed]",
            "text/plain": [
              "<Figure size 1000x500 with 1 Axes>"
            ]
          },
          "metadata": {},
          "output_type": "display_data"
        }
      ],
      "source": [
        "# Plot histogram\n",
        "plt.figure(figsize=(10, 5))\n",
        "plt.hist(unique_diff_pp_r1, bins=number_of_bins, edgecolor='black', alpha=0.7)  # 15 bins\n",
        "plt.xlabel('Value')\n",
        "plt.ylabel('Frequency')\n",
        "plt.title('Histogram of Data')\n",
        "plt.grid(axis='y', linestyle='--', alpha=0.7)\n",
        "plt.show()"
      ]
    },
    {
      "cell_type": "code",
      "execution_count": null,
      "id": "267e756e-1c7a-43da-a6a8-15eb777ed1e2",
      "metadata": {
        "id": "267e756e-1c7a-43da-a6a8-15eb777ed1e2",
        "outputId": "88ccd5cb-4051-4fbc-8cb2-1b6291c66452"
      },
      "outputs": [
        {
          "data": {
            "text/plain": [
              "array([ 33.72296,  38.00518, 122.36224,  35.6979 ,  27.56512,  20.92596,\n",
              "        21.74344,  74.1844 ,  59.17944, 118.17934,  48.21222,  99.89682,\n",
              "        35.717  ,  41.68766,  31.69072,  43.4716 ,  33.3295 ,  46.51614,\n",
              "        34.23102,  14.77194,  12.1094 ,  62.7435 ,  70.38732,  26.52608,\n",
              "        28.08082,  33.16142,  12.61364,  27.29008,  34.58246,  37.33668,\n",
              "        34.1317 ,  28.46282,  17.1327 ,  15.0699 ,  18.90518,  26.88516,\n",
              "        36.00732,  35.50308,  20.29184,  42.1728 ,  17.60256,  17.96928,\n",
              "        75.51758,  39.3842 ,  64.84832,  42.94062,  48.56366,  33.51668,\n",
              "        51.2644 ,  50.35524,  62.35386,  58.11366,  52.27288,  34.14316,\n",
              "        39.01366,  55.68414,  62.1705 ,  48.62096, 133.36766,  88.09302,\n",
              "        43.47924,  32.47   ,  53.8238 ,  85.7781 , 237.95926, 154.87044,\n",
              "        77.37792,  67.7095 ,  28.42844,  68.6263 , 143.69312, 101.87558,\n",
              "        59.8403 , 110.94044, 142.16512, 120.72346, 102.46386,  74.13092,\n",
              "       152.41418, 184.94912,  67.41154, 112.78932,  63.64884,  65.9714 ,\n",
              "        92.79544,  53.02924,  80.51032,  56.86452,  43.52126,  31.88172,\n",
              "        58.70958,  90.40794, 113.24008,  63.74816,  74.06598,  55.03474,\n",
              "        36.18304,  44.57176, 125.28836, 106.0814 ,  58.82036,  56.04322,\n",
              "       188.31072, 196.27542, 103.26224,  97.66212,  57.67436,  80.47594,\n",
              "        55.0271 , 101.90232,  60.13826,  31.42332,  41.20252,  44.5412 ,\n",
              "        72.91616,  45.76742,  25.52524,  84.32268,  44.65198,  66.18914,\n",
              "       126.69794,  79.265  ,  48.27716,  64.77956,  29.2994 ,  38.2191 ,\n",
              "        68.00746,  50.44692,  40.82816,  41.72586,  67.43064,  23.684  ,\n",
              "        21.38054,  50.66848,  38.8303 ,  67.92342,  45.46564,  71.67848,\n",
              "        24.74214,  32.19496, 249.7516 ,  84.52132,  61.82288, 163.62588,\n",
              "        78.31   ,  27.76376,  59.2864 ,  59.3246 ,  60.738  ,  55.53516,\n",
              "        47.38328,  51.32934,  31.64488,  33.5778 ,  35.908  ,  43.97202,\n",
              "        43.2233 ,  46.60018, 110.5126 ,  19.97096,  22.16364,  27.84398,\n",
              "        94.70162,  74.74976,  52.07424,  65.99814,  46.8523 ,  43.44486,\n",
              "        66.26554,  66.47564,  47.26104,  54.00334,  39.29252,  18.11826,\n",
              "        46.53906,  84.7085 ,  36.55358,  37.99372,  44.45716,  48.12436,\n",
              "        14.48926,  42.50514,  39.78912,  24.68484,  69.24132, 100.5424 ,\n",
              "       117.76296,  48.3421 ,  57.3    , 105.71468,  43.25768,  48.67826,\n",
              "        62.5907 ,  42.81838,  33.8452 ,  40.7212 , 100.43162,  58.34668,\n",
              "        54.47702,  47.12734,  62.69766,  23.06134,  53.36922,  53.98806,\n",
              "        59.71806,  76.79728,  97.9639 ,  44.23178,  52.71982,  33.89486,\n",
              "        53.29282,  51.5318 ,  52.11244,  62.43026,  96.18378,  61.73502,\n",
              "       122.75952, 223.06126,  55.72998,  92.7687 , 154.75966,  60.19174,\n",
              "        26.69798,  69.91364,  93.14688,  48.64388,  60.31016,  61.31864,\n",
              "        31.16356,  16.11658,  36.3855 ,  33.00098,  54.41972,  49.67528,\n",
              "        23.58086,  68.38564,  34.4564 ,  22.93146,  36.66054, 118.84402,\n",
              "        52.57466,  34.33798,  46.34424,  16.29994,  44.97668,  54.50758,\n",
              "        56.31062,  70.46754,  45.52676,  99.06788,  34.08968,  36.3282 ,\n",
              "        42.51278,  30.9038 ,  43.00938,  30.11688,  48.73174,  25.13178,\n",
              "        56.32208,  32.02688,  49.89684,  38.4865 ,  47.10442,  51.97874,\n",
              "        36.73312,  42.29886,  62.55632,  30.49888,  46.07684,  41.51194,\n",
              "        43.33408,  21.00236,  19.1764 ,  34.37618,  94.05986,  56.536  ,\n",
              "        35.9844 ,  38.86086,  15.00496,  19.6157 ,  45.52294,  25.44884,\n",
              "        46.9478 ,  35.16692,  34.07058,  21.6785 ,  18.718  ,  80.77008,\n",
              "        58.10984,  22.729  ,  28.33294,  30.37282,  12.45702,  47.78438,\n",
              "        43.73136,  25.05538,  71.243  ,  21.22392,  70.78842,  29.70432,\n",
              "        24.59698,  45.98134,  46.42446,  47.6545 ,  63.88568,  46.05392,\n",
              "        21.6594 ,  32.79852,  51.57   ,  38.24584, 124.84524,  82.6075 ,\n",
              "        36.77896,  78.14192,  68.15644, 108.83562,  90.8587 ,  82.13   ,\n",
              "        80.49122,  44.91174,  57.00204,  49.5836 ,  67.423  ,  60.52026,\n",
              "        50.3285 , 136.24794,  64.77574,  70.15812,  65.13864,  94.7169 ,\n",
              "       146.306  ,  50.92442,  43.45632,  65.69636,  34.12024,  79.60498,\n",
              "        65.66198, 104.73676, 131.79   , 119.50106,  22.41958,  35.74374,\n",
              "       204.62594, 102.59756, 108.6026 ,  73.22558,  44.37312,  46.84084,\n",
              "        55.26394,  87.00814,  74.6428 , 111.92218, 151.37514, 151.47828,\n",
              "       100.36286,  69.71118,  95.85908,  70.05498,  41.25982,  80.82738,\n",
              "        52.716  ,  40.71356,  33.75734,  51.44012,  52.73128,  23.50064,\n",
              "        60.21848,  79.62408,  37.94788,  31.54174,  51.67696, 132.44704,\n",
              "        79.07782,  76.3427 ,  49.49574,  38.94108,  29.2612 , 167.43824,\n",
              "        50.56534, 109.95488,  74.84526,  83.44408, 102.1086 , 122.29348,\n",
              "       120.14282,  62.8199 ,  55.4473 ,  65.2074 ,  59.6111 ,  31.80914,\n",
              "        52.11626,  89.01364,  70.28036,  48.9151 ,  73.9552 ,  85.59856,\n",
              "        87.9173 , 162.6747 , 320.5553 ,  98.6706 ,  49.67146,  79.23826,\n",
              "        89.93808,  30.5982 ,  68.71416,  51.98256,  65.55502,  96.56196,\n",
              "        55.69178,  48.90746,  31.58758,  31.52264,  82.4929 ,  57.93794])"
            ]
          },
          "execution_count": 49,
          "metadata": {},
          "output_type": "execute_result"
        }
      ],
      "source": [
        "unique_diff_pp_r1"
      ]
    },
    {
      "cell_type": "code",
      "execution_count": null,
      "id": "ba4d3f14-bdc2-491c-93a5-f1674ebf855b",
      "metadata": {
        "id": "ba4d3f14-bdc2-491c-93a5-f1674ebf855b"
      },
      "outputs": [],
      "source": []
    }
  ],
  "metadata": {
    "kernelspec": {
      "display_name": "Python 3 (ipykernel)",
      "language": "python",
      "name": "python3"
    },
    "language_info": {
      "codemirror_mode": {
        "name": "ipython",
        "version": 3
      },
      "file_extension": ".py",
      "mimetype": "text/x-python",
      "name": "python",
      "nbconvert_exporter": "python",
      "pygments_lexer": "ipython3",
      "version": "3.12.8"
    },
    "colab": {
      "provenance": [],
      "include_colab_link": true
    }
  },
  "nbformat": 4,
  "nbformat_minor": 5
}